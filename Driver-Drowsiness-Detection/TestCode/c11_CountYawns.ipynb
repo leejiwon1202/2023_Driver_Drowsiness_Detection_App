{
 "cells": [
  {
   "cell_type": "code",
   "execution_count": 26,
   "id": "fe2a84df",
   "metadata": {},
   "outputs": [],
   "source": [
    "import cv2\n",
    "import mediapipe as mp\n",
    "import numpy as np\n",
    "import math\n",
    "import time\n",
    "from mediapipe.framework.formats import landmark_pb2"
   ]
  },
  {
   "cell_type": "code",
   "execution_count": 8,
   "id": "4194f19f",
   "metadata": {},
   "outputs": [],
   "source": [
    "mp_face_mesh = mp.solutions.face_mesh\n",
    "mp_drawing_styles = mp.solutions.drawing_styles\n",
    "mp_drawing = mp.solutions.drawing_utils\n",
    "mp_drawing_styles = mp.solutions.drawing_styles\n",
    "drawing_spec = mp_drawing.DrawingSpec(thickness=1, circle_radius=1)"
   ]
  },
  {
   "cell_type": "markdown",
   "id": "57b97ca7",
   "metadata": {},
   "source": [
    "# 1) 사용자의 입술 크기 측정"
   ]
  },
  {
   "cell_type": "code",
   "execution_count": 18,
   "id": "5cd03bee",
   "metadata": {},
   "outputs": [],
   "source": [
    "land_list = [61, 0, 291, 17]\n",
    "text = \"Calculating the average width of your mouth...\""
   ]
  },
  {
   "cell_type": "code",
   "execution_count": 19,
   "id": "e8914fbf",
   "metadata": {},
   "outputs": [],
   "source": [
    "time_c = 0.0\n",
    "sum_w = 0\n",
    "\n",
    "cap = cv2.VideoCapture(0)\n",
    "with mp_face_mesh.FaceMesh(max_num_faces=1, refine_landmarks=True, min_detection_confidence=0.5, min_tracking_confidence=0.5) as face_mesh:\n",
    "    while cap.isOpened():\n",
    "        success, image = cap.read()\n",
    "        \n",
    "        image.flags.writeable = False\n",
    "        image = cv2.cvtColor(image, cv2.COLOR_BGR2RGB)\n",
    "        results = face_mesh.process(image)\n",
    "        image.flags.writeable = True\n",
    "        image = cv2.cvtColor(image, cv2.COLOR_RGB2BGR)\n",
    "        \n",
    "        if results.multi_face_landmarks:\n",
    "            point_list = []\n",
    "            for i in land_list:\n",
    "                point_list.append(results.multi_face_landmarks[0].landmark[i])\n",
    "            \n",
    "            a_x = (point_list[0].x - point_list[2].x) ** 2 * 1000\n",
    "            a_y = (point_list[0].y - point_list[2].y) ** 2 * 1000\n",
    "            a = a_x + a_y\n",
    "            \n",
    "            b_x = (point_list[1].x - point_list[3].x) ** 2 * 1000\n",
    "            b_y = (point_list[1].y - point_list[3].y) ** 2 * 1000\n",
    "            b = b_x + b_y\n",
    "            \n",
    "            sum_w += a * b * math.pi\n",
    "            time_c += 1\n",
    "            \n",
    "            mp_drawing.draw_landmarks(\n",
    "                image=image,\n",
    "                landmark_list=landmark_pb2.NormalizedLandmarkList(landmark = point_list),\n",
    "                connection_drawing_spec=drawing_spec)\n",
    "            \n",
    "            image = cv2.flip(image, 1)\n",
    "            cv2.putText(image, text, (30, 60), cv2.FONT_HERSHEY_SIMPLEX, 0.8, (98, 17, 0), 2, cv2.LINE_AA)\n",
    "            cv2.imshow(text, image)\n",
    "            cv2.waitKey(1)\n",
    "            \n",
    "            if time_c == 100:\n",
    "                break\n",
    "                \n",
    "cv2.destroyAllWindows()\n",
    "cap.release()"
   ]
  },
  {
   "cell_type": "code",
   "execution_count": 20,
   "id": "91c6a345",
   "metadata": {},
   "outputs": [
    {
     "name": "stdout",
     "output_type": "stream",
     "text": [
      "사용자 입술의 크기: 53.0\n"
     ]
    }
   ],
   "source": [
    "width_m = sum_w // 100\n",
    "print(\"사용자 입술의 크기:\", width_m)"
   ]
  },
  {
   "cell_type": "markdown",
   "id": "8c7c2c20",
   "metadata": {},
   "source": [
    "# 2) 하품한 횟수 카운트"
   ]
  },
  {
   "cell_type": "code",
   "execution_count": 25,
   "id": "68559e44",
   "metadata": {},
   "outputs": [],
   "source": [
    "cnt_y = 0\n",
    "mode = \"Normal Condition (cnt_y : \" + str(cnt_y) + \")\"\n",
    "flag = False\n",
    "time_s = time.time()\n",
    "\n",
    "cap = cv2.VideoCapture(0)\n",
    "with mp_face_mesh.FaceMesh(max_num_faces=1, refine_landmarks=True, min_detection_confidence=0.5, min_tracking_confidence=0.5) as face_mesh:\n",
    "    while cap.isOpened():\n",
    "        success, image = cap.read()\n",
    "        \n",
    "        image.flags.writeable = False\n",
    "        image = cv2.cvtColor(image, cv2.COLOR_BGR2RGB)\n",
    "        results = face_mesh.process(image)\n",
    "        image.flags.writeable = True\n",
    "        image = cv2.cvtColor(image, cv2.COLOR_RGB2BGR)\n",
    "        \n",
    "        if results.multi_face_landmarks:\n",
    "            point_list = []\n",
    "            for i in land_list:\n",
    "                point_list.append(results.multi_face_landmarks[0].landmark[i])\n",
    "            \n",
    "            a_x = (point_list[0].x - point_list[2].x) ** 2 * 1000\n",
    "            a_y = (point_list[0].y - point_list[2].y) ** 2 * 1000\n",
    "            a = a_x + a_y\n",
    "            \n",
    "            b_x = (point_list[1].x - point_list[3].x) ** 2 * 1000\n",
    "            b_y = (point_list[1].y - point_list[3].y) ** 2 * 1000\n",
    "            b = b_x + b_y\n",
    "            \n",
    "            width = a * b * math.pi\n",
    "            ratio = width  / width_m\n",
    "            \n",
    "            if ratio > 6 and time.time() - time_s >= 2:\n",
    "                flag = True\n",
    "                mode = \"Yawning... (ratio : \" + str(int(ratio)) + \")\"\n",
    "            else:\n",
    "                if flag:\n",
    "                    flag = False\n",
    "                    time_s = time.time()\n",
    "                    cnt_y += 1\n",
    "                    mode = \"Normal Condition (cnt_y : \" + str(cnt_y) + \")\"\n",
    "            \n",
    "            mp_drawing.draw_landmarks(\n",
    "                image=image,\n",
    "                landmark_list=landmark_pb2.NormalizedLandmarkList(landmark = point_list),\n",
    "                connection_drawing_spec=drawing_spec)\n",
    "            \n",
    "            image = cv2.flip(image, 1)\n",
    "            \n",
    "            \n",
    "            cv2.putText(image, mode, (30, 60), cv2.FONT_HERSHEY_SIMPLEX, 0.8, (98, 17, 0), 2, cv2.LINE_AA)\n",
    "            \n",
    "            cv2.imshow(\"Count the number of Yawns\", image)\n",
    "            cv2.waitKey(1)\n",
    "            \n",
    "            if cv2.waitKey(1) == 27:\n",
    "                break\n",
    "                \n",
    "cv2.destroyAllWindows()\n",
    "cap.release()"
   ]
  }
 ],
 "metadata": {
  "kernelspec": {
   "display_name": "Python 3",
   "language": "python",
   "name": "python3"
  },
  "language_info": {
   "codemirror_mode": {
    "name": "ipython",
    "version": 3
   },
   "file_extension": ".py",
   "mimetype": "text/x-python",
   "name": "python",
   "nbconvert_exporter": "python",
   "pygments_lexer": "ipython3",
   "version": "3.8.8"
  }
 },
 "nbformat": 4,
 "nbformat_minor": 5
}
