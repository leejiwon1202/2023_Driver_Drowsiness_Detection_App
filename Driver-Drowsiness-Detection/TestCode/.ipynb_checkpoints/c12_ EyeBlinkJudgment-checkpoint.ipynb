{
 "cells": [
  {
   "cell_type": "code",
   "execution_count": 1,
   "id": "3623078b",
   "metadata": {},
   "outputs": [],
   "source": [
    "import cv2\n",
    "import mediapipe as mp\n",
    "import math\n",
    "from mediapipe.framework.formats import landmark_pb2"
   ]
  },
  {
   "cell_type": "code",
   "execution_count": 2,
   "id": "c2c4632a",
   "metadata": {},
   "outputs": [],
   "source": [
    "mp_face_mesh = mp.solutions.face_mesh\n",
    "mp_drawing_styles = mp.solutions.drawing_styles\n",
    "mp_drawing = mp.solutions.drawing_utils\n",
    "mp_drawing_styles = mp.solutions.drawing_styles\n",
    "drawing_spec = mp_drawing.DrawingSpec(thickness=1, circle_radius=1)"
   ]
  },
  {
   "cell_type": "markdown",
   "id": "3f1c0f42",
   "metadata": {},
   "source": [
    "# 1) 사용자의 오른쪽 눈 크기 측정"
   ]
  },
  {
   "cell_type": "code",
   "execution_count": 43,
   "id": "a9b0ac3f",
   "metadata": {},
   "outputs": [],
   "source": [
    "land_list = [130, 160, 158, 133, 153, 144]\n",
    "text = \"Calculating the average width of your right eye...\""
   ]
  },
  {
   "cell_type": "code",
   "execution_count": 27,
   "id": "83b2fae0",
   "metadata": {},
   "outputs": [],
   "source": [
    "time_c = 0.0\n",
    "sum_r = 0\n",
    "\n",
    "cap = cv2.VideoCapture(0)\n",
    "with mp_face_mesh.FaceMesh(max_num_faces=1, refine_landmarks=True, min_detection_confidence=0.5, min_tracking_confidence=0.5) as face_mesh:\n",
    "    while cap.isOpened():\n",
    "        success, image = cap.read()\n",
    "        \n",
    "        image.flags.writeable = False\n",
    "        image = cv2.cvtColor(image, cv2.COLOR_BGR2RGB)\n",
    "        results = face_mesh.process(image)\n",
    "        image.flags.writeable = True\n",
    "        image = cv2.cvtColor(image, cv2.COLOR_RGB2BGR)\n",
    "        \n",
    "        if results.multi_face_landmarks:\n",
    "            point_list = []\n",
    "            for i in land_list:\n",
    "                point_list.append(results.multi_face_landmarks[0].landmark[i])\n",
    "            \n",
    "            a_x = (point_list[0].x - point_list[3].x) ** 2 * 1000\n",
    "            a_y = (point_list[0].y - point_list[3].y) ** 2 * 1000\n",
    "            a = a_x + a_y\n",
    "            \n",
    "            b_x = (point_list[1].x - point_list[5].x) ** 2 * 1000\n",
    "            b_y = (point_list[1].y - point_list[5].y) ** 2 * 1000\n",
    "            b = b_x + b_y\n",
    "            \n",
    "            c_x = (point_list[2].x - point_list[4].x) ** 2 * 1000\n",
    "            c_y = (point_list[2].y - point_list[4].y) ** 2 * 1000\n",
    "            c = c_x + c_y\n",
    "            \n",
    "            sum_r = (b + c) / (2 * a)\n",
    "            time_c += 1\n",
    "            \n",
    "            mp_drawing.draw_landmarks(\n",
    "                image=image,\n",
    "                landmark_list=landmark_pb2.NormalizedLandmarkList(landmark = point_list),\n",
    "                connection_drawing_spec=drawing_spec)\n",
    "            \n",
    "            image = cv2.flip(image, 1)\n",
    "            cv2.putText(image, text, (30, 60), cv2.FONT_HERSHEY_SIMPLEX, 0.8, (98, 17, 0), 2, cv2.LINE_AA)\n",
    "            cv2.imshow(text, image)\n",
    "            cv2.waitKey(1)\n",
    "            \n",
    "            if time_c == 100:\n",
    "                break\n",
    "                \n",
    "cv2.destroyAllWindows()\n",
    "cap.release()"
   ]
  },
  {
   "cell_type": "code",
   "execution_count": 28,
   "id": "c38802f8",
   "metadata": {},
   "outputs": [
    {
     "name": "stdout",
     "output_type": "stream",
     "text": [
      "사용자 오른쪽 눈의 평균 EAR: 0.12274887585263825\n"
     ]
    }
   ],
   "source": [
    "mar_r = sum_r / 100\n",
    "print(\"사용자 오른쪽 눈의 평균 EAR:\", mar_r)"
   ]
  },
  {
   "cell_type": "markdown",
   "id": "e4744823",
   "metadata": {},
   "source": [
    "# 2) 사용자의 왼쪽 눈 크기 측정"
   ]
  },
  {
   "cell_type": "code",
   "execution_count": 29,
   "id": "20771787",
   "metadata": {},
   "outputs": [],
   "source": [
    "land_list = [359, 387, 385, 362, 380, 373]\n",
    "text = \"Calculating the average width of your left eye...\""
   ]
  },
  {
   "cell_type": "code",
   "execution_count": 31,
   "id": "a102f05a",
   "metadata": {},
   "outputs": [],
   "source": [
    "time_c = 0.0\n",
    "sum_l = 0\n",
    "\n",
    "cap = cv2.VideoCapture(0)\n",
    "with mp_face_mesh.FaceMesh(max_num_faces=1, refine_landmarks=True, min_detection_confidence=0.5, min_tracking_confidence=0.5) as face_mesh:\n",
    "    while cap.isOpened():\n",
    "        success, image = cap.read()\n",
    "        \n",
    "        image.flags.writeable = False\n",
    "        image = cv2.cvtColor(image, cv2.COLOR_BGR2RGB)\n",
    "        results = face_mesh.process(image)\n",
    "        image.flags.writeable = True\n",
    "        image = cv2.cvtColor(image, cv2.COLOR_RGB2BGR)\n",
    "        \n",
    "        if results.multi_face_landmarks:\n",
    "            point_list = []\n",
    "            for i in land_list:\n",
    "                point_list.append(results.multi_face_landmarks[0].landmark[i])\n",
    "            \n",
    "            a_x = (point_list[0].x - point_list[3].x) ** 2 * 1000\n",
    "            a_y = (point_list[0].y - point_list[3].y) ** 2 * 1000\n",
    "            a = a_x + a_y\n",
    "            \n",
    "            b_x = (point_list[1].x - point_list[5].x) ** 2 * 1000\n",
    "            b_y = (point_list[1].y - point_list[5].y) ** 2 * 1000\n",
    "            b = b_x + b_y\n",
    "            \n",
    "            c_x = (point_list[2].x - point_list[4].x) ** 2 * 1000\n",
    "            c_y = (point_list[2].y - point_list[4].y) ** 2 * 1000\n",
    "            c = c_x + c_y\n",
    "            \n",
    "            sum_l += (b + c) / (2 * a)\n",
    "            time_c += 1\n",
    "            \n",
    "            mp_drawing.draw_landmarks(\n",
    "                image=image,\n",
    "                landmark_list=landmark_pb2.NormalizedLandmarkList(landmark = point_list),\n",
    "                connection_drawing_spec=drawing_spec)\n",
    "            \n",
    "            image = cv2.flip(image, 1)\n",
    "            cv2.putText(image, text, (30, 60), cv2.FONT_HERSHEY_SIMPLEX, 0.8, (98, 17, 0), 2, cv2.LINE_AA)\n",
    "            cv2.imshow(text, image)\n",
    "            cv2.waitKey(1)\n",
    "            \n",
    "            if time_c == 100:\n",
    "                break\n",
    "                \n",
    "cv2.destroyAllWindows()\n",
    "cap.release()"
   ]
  },
  {
   "cell_type": "code",
   "execution_count": 32,
   "id": "476d0be6",
   "metadata": {},
   "outputs": [
    {
     "name": "stdout",
     "output_type": "stream",
     "text": [
      "사용자 오른쪽 눈의 평균 EAR: 0.10920158685083417\n"
     ]
    }
   ],
   "source": [
    "mar_l = sum_l / 100\n",
    "print(\"사용자 오른쪽 눈의 평균 EAR:\", mar_l)"
   ]
  },
  {
   "cell_type": "markdown",
   "id": "a09a928a",
   "metadata": {},
   "source": [
    "# 3) 양쪽 눈 테스트 진행"
   ]
  },
  {
   "cell_type": "code",
   "execution_count": 45,
   "id": "6a4b24c5",
   "metadata": {},
   "outputs": [],
   "source": [
    "land_list = [130, 160, 158, 133, 153, 144, 359, 387, 385, 362, 380, 373]\n",
    "mode = \"Opened\""
   ]
  },
  {
   "cell_type": "code",
   "execution_count": 48,
   "id": "2e0592bd",
   "metadata": {},
   "outputs": [],
   "source": [
    "cap = cv2.VideoCapture(0)\n",
    "with mp_face_mesh.FaceMesh(max_num_faces=1, refine_landmarks=True, min_detection_confidence=0.5, min_tracking_confidence=0.5) as face_mesh:\n",
    "    while cap.isOpened():\n",
    "        success, image = cap.read()\n",
    "        \n",
    "        image.flags.writeable = False\n",
    "        image = cv2.cvtColor(image, cv2.COLOR_BGR2RGB)\n",
    "        results = face_mesh.process(image)\n",
    "        image.flags.writeable = True\n",
    "        image = cv2.cvtColor(image, cv2.COLOR_RGB2BGR)\n",
    "        \n",
    "        if results.multi_face_landmarks:\n",
    "            point_list = []\n",
    "            for i in land_list:\n",
    "                point_list.append(results.multi_face_landmarks[0].landmark[i])\n",
    "            \n",
    "            a_x = (point_list[0].x - point_list[3].x) ** 2 * 1000\n",
    "            a_y = (point_list[0].y - point_list[3].y) ** 2 * 1000\n",
    "            a = a_x + a_y\n",
    "            \n",
    "            b_x = (point_list[1].x - point_list[5].x) ** 2 * 1000\n",
    "            b_y = (point_list[1].y - point_list[5].y) ** 2 * 1000\n",
    "            b = b_x + b_y\n",
    "            \n",
    "            c_x = (point_list[2].x - point_list[4].x) ** 2 * 1000\n",
    "            c_y = (point_list[2].y - point_list[4].y) ** 2 * 1000\n",
    "            c = c_x + c_y\n",
    "            \n",
    "            ear_r = (b + c) / (2 * a)\n",
    "            \n",
    "            a_x = (point_list[6].x - point_list[9].x) ** 2 * 1000\n",
    "            a_y = (point_list[6].y - point_list[9].y) ** 2 * 1000\n",
    "            a = a_x + a_y\n",
    "            \n",
    "            b_x = (point_list[7].x - point_list[11].x) ** 2 * 1000\n",
    "            b_y = (point_list[7].y - point_list[11].y) ** 2 * 1000\n",
    "            b = b_x + b_y\n",
    "            \n",
    "            c_x = (point_list[8].x - point_list[10].x) ** 2 * 1000\n",
    "            c_y = (point_list[8].y - point_list[10].y) ** 2 * 1000\n",
    "            c = c_x + c_y\n",
    "            \n",
    "            ear_l = (b + c) / (2 * a)\n",
    "            \n",
    "            if(ear_r < mar_r *0.7) and (ear_l < mar_l * 0.7):\n",
    "                mode = \"Closed\"\n",
    "            else:\n",
    "                mode = \"Opened\"\n",
    "            \n",
    "            mp_drawing.draw_landmarks(\n",
    "                image=image,\n",
    "                landmark_list=landmark_pb2.NormalizedLandmarkList(landmark = point_list),\n",
    "                connection_drawing_spec=drawing_spec)\n",
    "            \n",
    "            image = cv2.flip(image, 1)\n",
    "            cv2.putText(image, mode, (30, 60), cv2.FONT_HERSHEY_SIMPLEX, 0.8, (98, 17, 0), 2, cv2.LINE_AA)\n",
    "            cv2.imshow(text, image)\n",
    "            \n",
    "            if cv2.waitKey(1) == 27:\n",
    "                break\n",
    "                \n",
    "cv2.destroyAllWindows()\n",
    "cap.release()"
   ]
  }
 ],
 "metadata": {
  "kernelspec": {
   "display_name": "Python 3",
   "language": "python",
   "name": "python3"
  },
  "language_info": {
   "codemirror_mode": {
    "name": "ipython",
    "version": 3
   },
   "file_extension": ".py",
   "mimetype": "text/x-python",
   "name": "python",
   "nbconvert_exporter": "python",
   "pygments_lexer": "ipython3",
   "version": "3.8.8"
  }
 },
 "nbformat": 4,
 "nbformat_minor": 5
}
