{
 "cells": [
  {
   "cell_type": "code",
   "execution_count": 9,
   "id": "cda0ca25",
   "metadata": {},
   "outputs": [],
   "source": [
    "import cv2\n",
    "import mediapipe as mp\n",
    "from mediapipe.framework.formats import landmark_pb2\n",
    "mp_drawing = mp.solutions.drawing_utils\n",
    "mp_drawing_styles = mp.solutions.drawing_styles\n",
    "mp_face_mesh = mp.solutions.face_mesh"
   ]
  },
  {
   "cell_type": "code",
   "execution_count": 60,
   "id": "1328864e",
   "metadata": {},
   "outputs": [],
   "source": [
    "drawing_spec = mp_drawing.DrawingSpec(thickness=1, circle_radius=1)\n",
    "cap = cv2.VideoCapture(0)\n",
    "with mp_face_mesh.FaceMesh(max_num_faces=2, refine_landmarks=True, min_detection_confidence=0.5, min_tracking_confidence=0.5) as face_mesh:\n",
    "    while cap.isOpened():\n",
    "        success, image = cap.read()\n",
    "        if not success:\n",
    "            print(\"Ignoring empty camera frame.\")\n",
    "            continue\n",
    "\n",
    "        image.flags.writeable = False\n",
    "        image = cv2.cvtColor(image, cv2.COLOR_BGR2RGB)\n",
    "        results = face_mesh.process(image)\n",
    "\n",
    "        image.flags.writeable = True\n",
    "        image = cv2.cvtColor(image, cv2.COLOR_RGB2BGR)\n",
    "        if results.multi_face_landmarks:\n",
    "            for face_landmarks in results.multi_face_landmarks:\n",
    "                point_list = [face_landmarks.landmark[46],\n",
    "                              face_landmarks.landmark[53],\n",
    "                              face_landmarks.landmark[52],\n",
    "                              face_landmarks.landmark[55],\n",
    "                              face_landmarks.landmark[65],\n",
    "            \n",
    "                              face_landmarks.landmark[276],\n",
    "                              face_landmarks.landmark[283],\n",
    "                              face_landmarks.landmark[282],\n",
    "                              face_landmarks.landmark[295],\n",
    "                              face_landmarks.landmark[285],\n",
    "                              \n",
    "                              face_landmarks.landmark[160],\n",
    "                              face_landmarks.landmark[158],\n",
    "                              \n",
    "                              face_landmarks.landmark[385],\n",
    "                              face_landmarks.landmark[387],\n",
    "                              \n",
    "                              face_landmarks.landmark[61],\n",
    "                              face_landmarks.landmark[291],\n",
    "                              face_landmarks.landmark[17]]\n",
    "                \n",
    "                mp_drawing.draw_landmarks(\n",
    "                    image=image,\n",
    "                    landmark_list=landmark_pb2.NormalizedLandmarkList(landmark = point_list),\n",
    "                    connection_drawing_spec=drawing_spec)\n",
    "\n",
    "        cv2.imshow('MediaPipe Face Mesh', cv2.flip(image, 1))\n",
    "        if cv2.waitKey(5) & 0xFF == 27:\n",
    "            break\n",
    "            \n",
    "cv2.destroyAllWindows()\n",
    "cap.release()"
   ]
  },
  {
   "cell_type": "code",
   "execution_count": null,
   "id": "24e9c403",
   "metadata": {},
   "outputs": [],
   "source": []
  }
 ],
 "metadata": {
  "kernelspec": {
   "display_name": "Python 3 (ipykernel)",
   "language": "python",
   "name": "python3"
  },
  "language_info": {
   "codemirror_mode": {
    "name": "ipython",
    "version": 3
   },
   "file_extension": ".py",
   "mimetype": "text/x-python",
   "name": "python",
   "nbconvert_exporter": "python",
   "pygments_lexer": "ipython3",
   "version": "3.8.16"
  }
 },
 "nbformat": 4,
 "nbformat_minor": 5
}
