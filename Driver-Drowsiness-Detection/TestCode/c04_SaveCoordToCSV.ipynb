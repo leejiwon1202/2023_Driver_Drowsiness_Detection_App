{
 "cells": [
  {
   "cell_type": "code",
   "execution_count": 1,
   "id": "cf6c8ee6",
   "metadata": {},
   "outputs": [],
   "source": [
    "import cv2\n",
    "import os\n",
    "import pandas as pd\n",
    "import mediapipe as mp\n",
    "from mediapipe.framework.formats import landmark_pb2"
   ]
  },
  {
   "cell_type": "code",
   "execution_count": 7,
   "id": "b46be165",
   "metadata": {},
   "outputs": [],
   "source": [
    "mp_face_mesh = mp.solutions.face_mesh"
   ]
  },
  {
   "cell_type": "code",
   "execution_count": 2,
   "id": "36ce0630",
   "metadata": {},
   "outputs": [],
   "source": [
    "cols = []\n",
    "for point in range(17):\n",
    "    for num in (\"x\", \"y\", \"z\"):\n",
    "        cols.append(\"p\" + \"%02d\" % point + \"_\" + num)\n",
    "cols = cols + [\"label\"]"
   ]
  },
  {
   "cell_type": "markdown",
   "id": "d88b516d",
   "metadata": {},
   "source": [
    "# 1) Drowsy.csv"
   ]
  },
  {
   "cell_type": "code",
   "execution_count": 3,
   "id": "e20073cf",
   "metadata": {},
   "outputs": [],
   "source": [
    "drowsy_path = (\"../../../Driver Drowsiness Dataset (DDD)/Drowsy/\")\n",
    "drowsy_files = os.listdir(drowsy_path)"
   ]
  },
  {
   "cell_type": "code",
   "execution_count": 4,
   "id": "8f29ef37",
   "metadata": {},
   "outputs": [],
   "source": [
    "drowsy_coord = pd.DataFrame(columns=cols)"
   ]
  },
  {
   "cell_type": "code",
   "execution_count": 5,
   "id": "4636af3e",
   "metadata": {},
   "outputs": [
    {
     "data": {
      "text/html": [
       "<div>\n",
       "<style scoped>\n",
       "    .dataframe tbody tr th:only-of-type {\n",
       "        vertical-align: middle;\n",
       "    }\n",
       "\n",
       "    .dataframe tbody tr th {\n",
       "        vertical-align: top;\n",
       "    }\n",
       "\n",
       "    .dataframe thead th {\n",
       "        text-align: right;\n",
       "    }\n",
       "</style>\n",
       "<table border=\"1\" class=\"dataframe\">\n",
       "  <thead>\n",
       "    <tr style=\"text-align: right;\">\n",
       "      <th></th>\n",
       "      <th>p00_x</th>\n",
       "      <th>p00_y</th>\n",
       "      <th>p00_z</th>\n",
       "      <th>p01_x</th>\n",
       "      <th>p01_y</th>\n",
       "      <th>p01_z</th>\n",
       "      <th>p02_x</th>\n",
       "      <th>p02_y</th>\n",
       "      <th>p02_z</th>\n",
       "      <th>p03_x</th>\n",
       "      <th>...</th>\n",
       "      <th>p14_x</th>\n",
       "      <th>p14_y</th>\n",
       "      <th>p14_z</th>\n",
       "      <th>p15_x</th>\n",
       "      <th>p15_y</th>\n",
       "      <th>p15_z</th>\n",
       "      <th>p16_x</th>\n",
       "      <th>p16_y</th>\n",
       "      <th>p16_z</th>\n",
       "      <th>label</th>\n",
       "    </tr>\n",
       "  </thead>\n",
       "  <tbody>\n",
       "  </tbody>\n",
       "</table>\n",
       "<p>0 rows × 52 columns</p>\n",
       "</div>"
      ],
      "text/plain": [
       "Empty DataFrame\n",
       "Columns: [p00_x, p00_y, p00_z, p01_x, p01_y, p01_z, p02_x, p02_y, p02_z, p03_x, p03_y, p03_z, p04_x, p04_y, p04_z, p05_x, p05_y, p05_z, p06_x, p06_y, p06_z, p07_x, p07_y, p07_z, p08_x, p08_y, p08_z, p09_x, p09_y, p09_z, p10_x, p10_y, p10_z, p11_x, p11_y, p11_z, p12_x, p12_y, p12_z, p13_x, p13_y, p13_z, p14_x, p14_y, p14_z, p15_x, p15_y, p15_z, p16_x, p16_y, p16_z, label]\n",
       "Index: []\n",
       "\n",
       "[0 rows x 52 columns]"
      ]
     },
     "execution_count": 5,
     "metadata": {},
     "output_type": "execute_result"
    }
   ],
   "source": [
    "drowsy_coord"
   ]
  },
  {
   "cell_type": "code",
   "execution_count": 8,
   "id": "7fd819d3",
   "metadata": {},
   "outputs": [],
   "source": [
    "with mp_face_mesh.FaceMesh(max_num_faces=1, refine_landmarks=True, min_detection_confidence=0.5, min_tracking_confidence=0.5) as face_mesh:\n",
    "    for index, file_name in enumerate(drowsy_files):\n",
    "        image = cv2.imread(drowsy_path + file_name)\n",
    "        \n",
    "        image.flags.writeable = False\n",
    "        image = cv2.cvtColor(image, cv2.COLOR_BGR2RGB)\n",
    "        results = face_mesh.process(image)\n",
    "\n",
    "        image.flags.writeable = True\n",
    "        image = cv2.cvtColor(image, cv2.COLOR_RGB2BGR)\n",
    "        \n",
    "        if results.multi_face_landmarks:\n",
    "            face_landmarks = results.multi_face_landmarks[0]\n",
    "            point_list = [face_landmarks.landmark[46], face_landmarks.landmark[53], face_landmarks.landmark[52], face_landmarks.landmark[55], face_landmarks.landmark[65],   \n",
    "                          face_landmarks.landmark[276], face_landmarks.landmark[283], face_landmarks.landmark[282], face_landmarks.landmark[295], face_landmarks.landmark[285],\n",
    "                          face_landmarks.landmark[160], face_landmarks.landmark[158],\n",
    "                          face_landmarks.landmark[385], face_landmarks.landmark[387],\n",
    "                          face_landmarks.landmark[61], face_landmarks.landmark[291], face_landmarks.landmark[17]]\n",
    "            \n",
    "            temp = []\n",
    "            for i, points in enumerate(point_list):\n",
    "                temp.append(points.x)\n",
    "                temp.append(points.y)\n",
    "                temp.append(points.z)\n",
    "            temp.append(1)\n",
    "            \n",
    "            drowsy_coord.loc[index] = temp"
   ]
  },
  {
   "cell_type": "code",
   "execution_count": 113,
   "id": "b38d3ad3",
   "metadata": {},
   "outputs": [],
   "source": [
    "drowsy_coord.to_csv('./drowsy.csv', index=False, encoding='utf-8-sig')"
   ]
  },
  {
   "cell_type": "markdown",
   "id": "af44a53d",
   "metadata": {},
   "source": [
    "# 2) Non-Drowsy.csv"
   ]
  },
  {
   "cell_type": "code",
   "execution_count": 9,
   "id": "b5d04c4b",
   "metadata": {},
   "outputs": [],
   "source": [
    "non_drowsy_path = (\"../../../Driver Drowsiness Dataset (DDD)/Non Drowsy/\")\n",
    "non_drowsy_files = os.listdir(non_drowsy_path)"
   ]
  },
  {
   "cell_type": "code",
   "execution_count": 10,
   "id": "7ae9bd87",
   "metadata": {},
   "outputs": [],
   "source": [
    "non_drowsy_coord = pd.DataFrame(columns=cols)"
   ]
  },
  {
   "cell_type": "code",
   "execution_count": 11,
   "id": "684d3d7e",
   "metadata": {},
   "outputs": [
    {
     "data": {
      "text/html": [
       "<div>\n",
       "<style scoped>\n",
       "    .dataframe tbody tr th:only-of-type {\n",
       "        vertical-align: middle;\n",
       "    }\n",
       "\n",
       "    .dataframe tbody tr th {\n",
       "        vertical-align: top;\n",
       "    }\n",
       "\n",
       "    .dataframe thead th {\n",
       "        text-align: right;\n",
       "    }\n",
       "</style>\n",
       "<table border=\"1\" class=\"dataframe\">\n",
       "  <thead>\n",
       "    <tr style=\"text-align: right;\">\n",
       "      <th></th>\n",
       "      <th>p00_x</th>\n",
       "      <th>p00_y</th>\n",
       "      <th>p00_z</th>\n",
       "      <th>p01_x</th>\n",
       "      <th>p01_y</th>\n",
       "      <th>p01_z</th>\n",
       "      <th>p02_x</th>\n",
       "      <th>p02_y</th>\n",
       "      <th>p02_z</th>\n",
       "      <th>p03_x</th>\n",
       "      <th>...</th>\n",
       "      <th>p14_x</th>\n",
       "      <th>p14_y</th>\n",
       "      <th>p14_z</th>\n",
       "      <th>p15_x</th>\n",
       "      <th>p15_y</th>\n",
       "      <th>p15_z</th>\n",
       "      <th>p16_x</th>\n",
       "      <th>p16_y</th>\n",
       "      <th>p16_z</th>\n",
       "      <th>label</th>\n",
       "    </tr>\n",
       "  </thead>\n",
       "  <tbody>\n",
       "  </tbody>\n",
       "</table>\n",
       "<p>0 rows × 52 columns</p>\n",
       "</div>"
      ],
      "text/plain": [
       "Empty DataFrame\n",
       "Columns: [p00_x, p00_y, p00_z, p01_x, p01_y, p01_z, p02_x, p02_y, p02_z, p03_x, p03_y, p03_z, p04_x, p04_y, p04_z, p05_x, p05_y, p05_z, p06_x, p06_y, p06_z, p07_x, p07_y, p07_z, p08_x, p08_y, p08_z, p09_x, p09_y, p09_z, p10_x, p10_y, p10_z, p11_x, p11_y, p11_z, p12_x, p12_y, p12_z, p13_x, p13_y, p13_z, p14_x, p14_y, p14_z, p15_x, p15_y, p15_z, p16_x, p16_y, p16_z, label]\n",
       "Index: []\n",
       "\n",
       "[0 rows x 52 columns]"
      ]
     },
     "execution_count": 11,
     "metadata": {},
     "output_type": "execute_result"
    }
   ],
   "source": [
    "non_drowsy_coord"
   ]
  },
  {
   "cell_type": "code",
   "execution_count": null,
   "id": "7d0fb85a",
   "metadata": {},
   "outputs": [],
   "source": [
    "with mp_face_mesh.FaceMesh(max_num_faces=1, refine_landmarks=True, min_detection_confidence=0.5, min_tracking_confidence=0.5) as face_mesh:\n",
    "    for index, file_name in enumerate(non_drowsy_files):\n",
    "        image = cv2.imread(non_drowsy_path + file_name)\n",
    "\n",
    "        image.flags.writeable = False\n",
    "        image = cv2.cvtColor(image, cv2.COLOR_BGR2RGB)\n",
    "        results = face_mesh.process(image)\n",
    "        \n",
    "        image.flags.writeable = True\n",
    "        image = cv2.cvtColor(image, cv2.COLOR_RGB2BGR)\n",
    "        \n",
    "        if results.multi_face_landmarks:\n",
    "            face_landmarks = results.multi_face_landmarks[0]\n",
    "            point_list = [face_landmarks.landmark[46], face_landmarks.landmark[53], face_landmarks.landmark[52], face_landmarks.landmark[55], face_landmarks.landmark[65],   \n",
    "                          face_landmarks.landmark[276], face_landmarks.landmark[283], face_landmarks.landmark[282], face_landmarks.landmark[295], face_landmarks.landmark[285],\n",
    "                          face_landmarks.landmark[160], face_landmarks.landmark[158],\n",
    "                          face_landmarks.landmark[385], face_landmarks.landmark[387],\n",
    "                          face_landmarks.landmark[61], face_landmarks.landmark[291], face_landmarks.landmark[17]]\n",
    "            \n",
    "            temp = []\n",
    "            for i, points in enumerate(point_list):\n",
    "                temp.append(points.x)\n",
    "                temp.append(points.y)\n",
    "                temp.append(points.z)\n",
    "            temp.append(0)\n",
    "            \n",
    "            non_drowsy_coord.loc[index] = temp"
   ]
  },
  {
   "cell_type": "code",
   "execution_count": 127,
   "id": "983764bf",
   "metadata": {},
   "outputs": [],
   "source": [
    "non_drowsy_coord.to_csv('./non-drowsy.csv', index=False, encoding='utf-8-sig')"
   ]
  }
 ],
 "metadata": {
  "kernelspec": {
   "display_name": "Python 3 (ipykernel)",
   "language": "python",
   "name": "python3"
  },
  "language_info": {
   "codemirror_mode": {
    "name": "ipython",
    "version": 3
   },
   "file_extension": ".py",
   "mimetype": "text/x-python",
   "name": "python",
   "nbconvert_exporter": "python",
   "pygments_lexer": "ipython3",
   "version": "3.8.16"
  }
 },
 "nbformat": 4,
 "nbformat_minor": 5
}
