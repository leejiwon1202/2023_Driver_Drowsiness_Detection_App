{
 "cells": [
  {
   "cell_type": "code",
   "execution_count": 1,
   "id": "37d61256",
   "metadata": {},
   "outputs": [
    {
     "data": {
      "text/plain": [
       "26628"
      ]
     },
     "execution_count": 1,
     "metadata": {},
     "output_type": "execute_result"
    }
   ],
   "source": [
    "import tensorflow as tf\n",
    "\n",
    "# 파일로 저장되어 있는 모델을 load 한 뒤, TFLite 모델로 변환\n",
    "converter = tf.lite.TFLiteConverter.from_saved_model('./model/model03')\n",
    "\n",
    "# FP16 양자화 설정\n",
    "converter.target_spec.supported_types = [tf.float16]\n",
    "converter.optimizations = [tf.lite.Optimize.DEFAULT]\n",
    "\n",
    "# 모델 양자화\n",
    "tflite_model = converter.convert()\n",
    "\n",
    "# 변환된 모델을 .tflite 파일에 저장\n",
    "open(\"DrowsyDetect.tflite\", \"wb\").write(tflite_model)"
   ]
  },
  {
   "cell_type": "code",
   "execution_count": null,
   "id": "d6accb8e",
   "metadata": {},
   "outputs": [],
   "source": []
  }
 ],
 "metadata": {
  "kernelspec": {
   "display_name": "Python 3 (ipykernel)",
   "language": "python",
   "name": "python3"
  },
  "language_info": {
   "codemirror_mode": {
    "name": "ipython",
    "version": 3
   },
   "file_extension": ".py",
   "mimetype": "text/x-python",
   "name": "python",
   "nbconvert_exporter": "python",
   "pygments_lexer": "ipython3",
   "version": "3.8.16"
  }
 },
 "nbformat": 4,
 "nbformat_minor": 5
}
