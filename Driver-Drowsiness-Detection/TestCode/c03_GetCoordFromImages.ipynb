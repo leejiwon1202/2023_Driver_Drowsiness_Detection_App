{
 "cells": [
  {
   "cell_type": "code",
   "execution_count": 9,
   "id": "e0fd2e61",
   "metadata": {},
   "outputs": [],
   "source": [
    "import cv2\n",
    "import mediapipe as mp\n",
    "from mediapipe.framework.formats import landmark_pb2\n",
    "import os\n",
    "mp_drawing = mp.solutions.drawing_utils\n",
    "mp_drawing_styles = mp.solutions.drawing_styles\n",
    "mp_face_mesh = mp.solutions.face_mesh"
   ]
  },
  {
   "cell_type": "code",
   "execution_count": 15,
   "id": "d609e2bc",
   "metadata": {},
   "outputs": [
    {
     "name": "stdout",
     "output_type": "stream",
     "text": [
      "0 0.12112945318222046 0.3515791893005371 0.13077989220619202\n",
      "1 0.15672242641448975 0.3221498131752014 0.0974944457411766\n",
      "2 0.20843562483787537 0.30212265253067017 0.06660283356904984\n",
      "3 0.3774445056915283 0.31000468134880066 0.01994265988469124\n",
      "4 0.2795121669769287 0.2946103513240814 0.04055558145046234\n",
      "5 0.8076969981193542 0.3327995538711548 0.09878934174776077\n",
      "6 0.7657095193862915 0.30568942427635193 0.06974644958972931\n",
      "7 0.7080227136611938 0.2908105254173279 0.04438025876879692\n",
      "8 0.6320134401321411 0.2912864089012146 0.025239937007427216\n",
      "9 0.5341419577598572 0.3162177801132202 0.012618492357432842\n",
      "10 0.22391635179519653 0.39673590660095215 0.0949489027261734\n",
      "11 0.2861909866333008 0.3858620524406433 0.08267802745103836\n",
      "12 0.6410738825798035 0.3829271197319031 0.06458530575037003\n",
      "13 0.7044459581375122 0.388047993183136 0.07075341045856476\n",
      "14 0.2916431427001953 0.7238494157791138 -0.03868228197097778\n",
      "15 0.6312340497970581 0.7182595729827881 -0.05773801729083061\n",
      "16 0.43629884719848633 0.7328121662139893 -0.15724289417266846\n"
     ]
    }
   ],
   "source": [
    "drawing_spec = mp_drawing.DrawingSpec(thickness=1, circle_radius=1)\n",
    "with mp_face_mesh.FaceMesh(max_num_faces=2, refine_landmarks=True, min_detection_confidence=0.5, min_tracking_confidence=0.5) as face_mesh:\n",
    "    #image = cv2.imread(\"../../Datasets/Drowsy/d_00001.png\")\n",
    "    image = cv2.imread(\"../../Datasets/Non-Drowsy/nd_00001.png\")\n",
    "    \n",
    "    image.flags.writeable = False\n",
    "    image = cv2.cvtColor(image, cv2.COLOR_BGR2RGB)\n",
    "    results = face_mesh.process(image)\n",
    "\n",
    "    image.flags.writeable = True\n",
    "    image = cv2.cvtColor(image, cv2.COLOR_RGB2BGR)\n",
    "        \n",
    "    if results.multi_face_landmarks:\n",
    "        for face_landmarks in results.multi_face_landmarks:\n",
    "            point_list = [face_landmarks.landmark[46],\n",
    "                          face_landmarks.landmark[53],\n",
    "                          face_landmarks.landmark[52],\n",
    "                          face_landmarks.landmark[55],\n",
    "                          face_landmarks.landmark[65],\n",
    "                          \n",
    "                          face_landmarks.landmark[276],\n",
    "                          face_landmarks.landmark[283],\n",
    "                          face_landmarks.landmark[282],\n",
    "                          face_landmarks.landmark[295],\n",
    "                          face_landmarks.landmark[285],\n",
    "                          \n",
    "                          face_landmarks.landmark[160],\n",
    "                          face_landmarks.landmark[158],\n",
    "                          \n",
    "                          face_landmarks.landmark[385],\n",
    "                          face_landmarks.landmark[387],\n",
    "                          \n",
    "                          face_landmarks.landmark[61],\n",
    "                          face_landmarks.landmark[291],\n",
    "                          face_landmarks.landmark[17]]\n",
    "                \n",
    "            for i, point in enumerate(point_list):\n",
    "                print(i, point.x, point.y, point.z)\n",
    "                \n",
    "            mp_drawing.draw_landmarks(\n",
    "                image=image,\n",
    "                landmark_list=landmark_pb2.NormalizedLandmarkList(landmark = point_list),\n",
    "                connection_drawing_spec=drawing_spec)\n",
    "\n",
    "        cv2.imshow('MediaPipe Face Mesh', cv2.flip(image, 1))\n",
    "        #cv2.imwrite(\"./result/d_00001.png\", cv2.flip(image,1))\n",
    "        cv2.imwrite(\"./result/nd_00001.png\", cv2.flip(image,1))\n",
    "        cv2.waitKey(0)\n",
    "        cv2.destroyAllWindows()"
   ]
  },
  {
   "cell_type": "code",
   "execution_count": null,
   "id": "52703428",
   "metadata": {},
   "outputs": [],
   "source": []
  }
 ],
 "metadata": {
  "kernelspec": {
   "display_name": "Python 3 (ipykernel)",
   "language": "python",
   "name": "python3"
  },
  "language_info": {
   "codemirror_mode": {
    "name": "ipython",
    "version": 3
   },
   "file_extension": ".py",
   "mimetype": "text/x-python",
   "name": "python",
   "nbconvert_exporter": "python",
   "pygments_lexer": "ipython3",
   "version": "3.8.16"
  }
 },
 "nbformat": 4,
 "nbformat_minor": 5
}
